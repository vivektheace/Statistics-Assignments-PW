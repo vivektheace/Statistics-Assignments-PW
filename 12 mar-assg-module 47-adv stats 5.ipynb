{
 "cells": [
  {
   "cell_type": "markdown",
   "id": "1ecf921d-2515-401b-be1b-cc306235ef95",
   "metadata": {},
   "source": [
    "Q1. Calculate the 95% confidence interval for a sample of data with a mean of 50 and a standard deviation\n",
    "of 5 using Python. Interpret the results.\n"
   ]
  },
  {
   "cell_type": "code",
   "execution_count": 1,
   "id": "0a1d3745-6254-46d9-be66-b2a1d3efbb15",
   "metadata": {},
   "outputs": [
    {
     "data": {
      "text/plain": [
       "(48.1329693162095, 51.8670306837905)"
      ]
     },
     "execution_count": 1,
     "metadata": {},
     "output_type": "execute_result"
    }
   ],
   "source": [
    "import scipy.stats as stats\n",
    "import numpy as np\n",
    "\n",
    "# Sample data\n",
    "mean = 50\n",
    "std_dev = 5\n",
    "sample_size = 30  # Assuming a sample size of 30\n",
    "\n",
    "# Calculate the 95% confidence interval\n",
    "confidence_level = 0.95\n",
    "degrees_freedom = sample_size - 1\n",
    "confidence_interval = stats.t.interval(confidence_level, degrees_freedom, mean, std_dev/np.sqrt(sample_size))\n",
    "confidence_interval\n"
   ]
  },
  {
   "cell_type": "markdown",
   "id": "368ee22f-771d-49ec-a1d4-ad62d317b626",
   "metadata": {},
   "source": [
    "The 95% confidence interval for the sample data with a mean of 50 and a standard deviation of 5 is approximately (48.13, 51.87).\n",
    "\n",
    "Interpretation:\n",
    "This means that we are 95% confident that the true population mean lies within the interval from 48.13 to 51.87. If we were to take many samples and compute a 95% confidence interval for each sample, we would expect about 95% of those intervals to contain the true population mean"
   ]
  },
  {
   "cell_type": "markdown",
   "id": "c408eecd-35c3-4f8b-b69d-eafbda65019b",
   "metadata": {},
   "source": [
    "Q2. Conduct a chi-square goodness of fit test to determine if the distribution of colors of M&Ms in a bag\n",
    "matches the expected distribution of 20% blue, 20% orange, 20% green, 10% yellow, 10% red, and 20%\n",
    "brown. Use Python to perform the test with a significance level of 0.05.\n"
   ]
  },
  {
   "cell_type": "code",
   "execution_count": 2,
   "id": "cf5a7b32-299b-425b-941b-3cb25a3ba948",
   "metadata": {},
   "outputs": [
    {
     "data": {
      "text/plain": [
       "(1.8, 0.87606840032466)"
      ]
     },
     "execution_count": 2,
     "metadata": {},
     "output_type": "execute_result"
    }
   ],
   "source": [
    "import scipy.stats as stats\n",
    "\n",
    "# Observed frequencies of M&Ms colors in a bag\n",
    "observed_frequencies = [23, 21, 19, 8, 12, 17]  # Example observed frequencies\n",
    "\n",
    "# Expected frequencies based on the given distribution\n",
    "total_mms = sum(observed_frequencies)\n",
    "expected_frequencies = [total_mms * 0.20, total_mms * 0.20, total_mms * 0.20, total_mms * 0.10, total_mms * 0.10, total_mms * 0.20]\n",
    "\n",
    "# Performing the chi-square goodness of fit test\n",
    "chi_square_stat, p_value = stats.chisquare(f_obs=observed_frequencies, f_exp=expected_frequencies)\n",
    "\n",
    "chi_square_stat, p_value\n"
   ]
  },
  {
   "cell_type": "markdown",
   "id": "000243bc-3e5c-4b38-b4ae-8b7ab2e95417",
   "metadata": {},
   "source": [
    "The chi-square goodness of fit test resulted in the following:\n",
    "\n",
    "Chi-square statistic: 1.8\n",
    "\n",
    "p-value: 0.876\n",
    "\n",
    "Given the significance level of 0.05, the p-value of 0.876 is much greater than 0.05. Therefore, we fail to reject the null hypothesis. This means that there is no significant difference between the observed distribution of M&Ms colors and the expected distribution. The observed frequencies match the expected distribution well"
   ]
  },
  {
   "attachments": {
    "3d1dc0bb-18a0-48bb-b587-579311395cbd.png": {
     "image/png": "[encoded data removed]"
    }
   },
   "cell_type": "markdown",
   "id": "eb277352-590a-49f4-9dcc-d2087a1ffe19",
   "metadata": {},
   "source": [
    "Q3. Use Python to calculate the chi-square statistic and p-value for a contingency table with the following  data:!\n",
    "![Screenshot 2024-08-04 004446.png](attachment:3d1dc0bb-18a0-48bb-b587-579311395cbd.png)\n",
    "\n",
    "\n",
    "Interpret the results of the test"
   ]
  },
  {
   "cell_type": "code",
   "execution_count": 3,
   "id": "82ecd5c7-2a49-49dd-bec5-49f7d0b99479",
   "metadata": {},
   "outputs": [
    {
     "data": {
      "text/plain": [
       "(5.833333333333334,\n",
       " 0.05411376622282158,\n",
       " 2,\n",
       " array([[15., 20.],\n",
       "        [15., 20.],\n",
       "        [15., 20.]]))"
      ]
     },
     "execution_count": 3,
     "metadata": {},
     "output_type": "execute_result"
    }
   ],
   "source": [
    "# Recalculate chi-square statistic and p-value for the provided contingency table\n",
    "data = np.array([[20, 15], [10, 25], [15, 20]])\n",
    "\n",
    "# Perform chi-square test for independence\n",
    "chi2_stat, p_val, dof, expected = stats.chi2_contingency(data)\n",
    "\n",
    "chi2_stat, p_val, dof, expected\n"
   ]
  },
  {
   "cell_type": "markdown",
   "id": "4b4c6ad5-f0ed-47ee-b04e-f3bda1a595bf",
   "metadata": {},
   "source": [
    "The chi-square test for the contingency table resulted in the following:\n",
    "\n",
    "- Chi-square statistic: 5.83\n",
    "- p-value: 0.054\n",
    "- Degrees of freedom: 2\n",
    "- Expected frequencies:\n",
    "  \\[\n",
    "  \\begin{array}{cc}\n",
    "  15 & 20 \\\\\n",
    "  15 & 20 \\\\\n",
    "  15 & 20 \\\\\n",
    "  \\end{array}\n",
    "  \\]\n",
    "\n",
    "Given the significance level of 0.05, the p-value of 0.054 is slightly above the threshold. Therefore, we fail to reject the null hypothesis at the 0.05 significance level. This means that there is no significant evidence to suggest an association between the groups (A and B) and the outcomes."
   ]
  },
  {
   "cell_type": "markdown",
   "id": "310357a4-1fb7-4380-9e65-ce0c2353c12b",
   "metadata": {},
   "source": [
    "Q4. A study of the prevalence of smoking in a population of 500 individuals found that 60 individuals\n",
    "smoked. Use Python to calculate the 95% confidence interval for the true proportion of individuals in the\n",
    "population who smoke.\n"
   ]
  },
  {
   "cell_type": "code",
   "execution_count": 4,
   "id": "1e48dc64-dd41-4db2-9303-5f230703acfb",
   "metadata": {},
   "outputs": [
    {
     "data": {
      "text/plain": [
       "(0.12, (0.09151638887130706, 0.14848361112869293))"
      ]
     },
     "execution_count": 4,
     "metadata": {},
     "output_type": "execute_result"
    }
   ],
   "source": [
    "import statsmodels.api as sm\n",
    "\n",
    "# Sample size and number of smokers\n",
    "n = 500\n",
    "x = 60\n",
    "\n",
    "# Calculate the proportion\n",
    "p_hat = x / n\n",
    "\n",
    "# Calculate the 95% confidence interval\n",
    "conf_int = sm.stats.proportion_confint(count=x, nobs=n, alpha=0.05, method='normal')\n",
    "\n",
    "p_hat, conf_int\n"
   ]
  },
  {
   "cell_type": "markdown",
   "id": "af9acd26-fc14-4f88-a452-5d360f811531",
   "metadata": {},
   "source": [
    "The 95% confidence interval for the true proportion of individuals in the population who smoke is approximately \n",
    "0.092\n",
    "0.092 to \n",
    "0.148\n",
    "0.148. This means we are 95% confident that the true proportion of smokers in the population lies within this interval."
   ]
  },
  {
   "cell_type": "markdown",
   "id": "bf56418e-cefa-48d4-a199-3a2c32b93301",
   "metadata": {},
   "source": [
    "Q5. Calculate the 90% confidence interval for a sample of data with a mean of 75 and a standard deviation\n",
    "of 12 using Python. Interpret the results.\n"
   ]
  },
  {
   "cell_type": "code",
   "execution_count": 5,
   "id": "47134e67-5b5a-4a6b-8833-d5c242c4cdd5",
   "metadata": {},
   "outputs": [
    {
     "data": {
      "text/plain": [
       "(74.11727891450386, 75.88272108549614)"
      ]
     },
     "execution_count": 5,
     "metadata": {},
     "output_type": "execute_result"
    }
   ],
   "source": [
    "from scipy import stats\n",
    "import math\n",
    "\n",
    "# Sample statistics\n",
    "mean = 75\n",
    "std_dev = 12\n",
    "sample_size = 500  # assuming a sample size, this can be adjusted as needed\n",
    "\n",
    "# Calculate the 90% confidence interval\n",
    "confidence_level = 0.90\n",
    "z_score = stats.norm.ppf((1 + confidence_level) / 2)\n",
    "\n",
    "# Margin of error\n",
    "margin_of_error = z_score * (std_dev / math.sqrt(sample_size))\n",
    "\n",
    "# Confidence interval\n",
    "conf_interval = (mean - margin_of_error, mean + margin_of_error)\n",
    "\n",
    "conf_interval\n"
   ]
  },
  {
   "cell_type": "markdown",
   "id": "b4d362c4-3cbc-4c89-be72-7d3bc03da2fb",
   "metadata": {},
   "source": [
    "The 90% confidence interval for the sample mean is approximately \n",
    "74.12\n",
    "74.12 to \n",
    "75.88\n",
    "75.88. This means that we are 90% confident that the true population mean lies within this interval, based on the sample data provided. ​"
   ]
  },
  {
   "cell_type": "markdown",
   "id": "d9451404-42fe-4c30-a053-e685abf00364",
   "metadata": {},
   "source": [
    "Q6. Use Python to plot the chi-square distribution with 10 degrees of freedom. Label the axes and shade the\n",
    "area corresponding to a chi-square statistic of 15.\n"
   ]
  },
  {
   "cell_type": "code",
   "execution_count": 6,
   "id": "6c0cda58-b66c-4be5-840b-81f1a1f41c38",
   "metadata": {},
   "outputs": [
    {
     "data": {
      "image/png": "[encoded data removed]",
      "text/plain": [
       "<Figure size 1000x600 with 1 Axes>"
      ]
     },
     "metadata": {},
     "output_type": "display_data"
    }
   ],
   "source": [
    "import numpy as np\n",
    "import matplotlib.pyplot as plt\n",
    "\n",
    "# Degrees of freedom\n",
    "df = 10\n",
    "\n",
    "# Chi-square distribution\n",
    "x = np.linspace(0, 30, 1000)\n",
    "y = stats.chi2.pdf(x, df)\n",
    "\n",
    "# Chi-square statistic\n",
    "chi_square_stat = 15\n",
    "\n",
    "# Plotting the chi-square distribution\n",
    "plt.figure(figsize=(10, 6))\n",
    "plt.plot(x, y, label=f'Chi-square Distribution with {df} df', color='blue')\n",
    "plt.fill_between(x, y, where=(x <= chi_square_stat), color='lightblue', alpha=0.6, label=f'Chi-square <= {chi_square_stat}')\n",
    "plt.axvline(chi_square_stat, color='red', linestyle='--', label=f'Chi-square Statistic = {chi_square_stat}')\n",
    "\n",
    "# Labels and title\n",
    "plt.xlabel('Chi-square value')\n",
    "plt.ylabel('Probability Density')\n",
    "plt.title('Chi-square Distribution with 10 Degrees of Freedom')\n",
    "plt.legend()\n",
    "plt.grid(True)\n",
    "plt.show()\n"
   ]
  },
  {
   "cell_type": "markdown",
   "id": "bf210874-3171-4826-8823-c9ecd78138b8",
   "metadata": {},
   "source": [
    "Here's the plot of the chi-square distribution with 10 degrees of freedom. The area under the curve corresponding to a chi-square statistic of 15 is shaded in light blue. The red dashed line marks the chi-square statistic value of 15. The x-axis represents the chi-square values, while the y-axis represents the probability density."
   ]
  },
  {
   "cell_type": "markdown",
   "id": "beed2004-8b7f-407e-a444-03e44a2c7b15",
   "metadata": {},
   "source": [
    "Q7. A random sample of 1000 people was asked if they preferred Coke or Pepsi. Of the sample, 520\n",
    "preferred Coke. Calculate a 99% confidence interval for the true proportion of people in the population who\n",
    "prefer Coke.\n"
   ]
  },
  {
   "cell_type": "code",
   "execution_count": 7,
   "id": "4da7f31f-e495-415c-8ddd-25b3d45759c7",
   "metadata": {},
   "outputs": [
    {
     "data": {
      "text/plain": [
       "(0.52, (0.4793051576779699, 0.5606948423220302))"
      ]
     },
     "execution_count": 7,
     "metadata": {},
     "output_type": "execute_result"
    }
   ],
   "source": [
    "# Sample size and number of people who prefer Coke\n",
    "n = 1000\n",
    "x = 520\n",
    "\n",
    "# Calculate the proportion\n",
    "p_hat = x / n\n",
    "\n",
    "# Calculate the 99% confidence interval\n",
    "conf_int_99 = sm.stats.proportion_confint(count=x, nobs=n, alpha=0.01, method='normal')\n",
    "\n",
    "p_hat, conf_int_99\n"
   ]
  },
  {
   "cell_type": "markdown",
   "id": "b1ac77c5-68bc-4c77-a2f3-3014a992e069",
   "metadata": {},
   "source": [
    "The 99% confidence interval for the true proportion of people in the population who prefer Coke is approximately \n",
    "0.479\n",
    "0.479 to \n",
    "0.561\n",
    "0.561. This means we are 99% confident that the true proportion of people who prefer Coke lies within this interval"
   ]
  },
  {
   "cell_type": "markdown",
   "id": "541065bc-471d-43ac-b091-88d6c2cab7a3",
   "metadata": {},
   "source": [
    "Q8. A researcher hypothesizes that a coin is biased towards tails. They flip the coin 100 times and observe\n",
    "45 tails. Conduct a chi-square goodness of fit test to determine if the observed frequencies match the\n",
    "expected frequencies of a fair coin. Use a significance level of 0.05.\n"
   ]
  },
  {
   "cell_type": "code",
   "execution_count": 8,
   "id": "825ae4fd-dfc7-48b7-ba8b-b0b8f82ce495",
   "metadata": {},
   "outputs": [
    {
     "data": {
      "text/plain": [
       "(1.0, 0.31731050786291115)"
      ]
     },
     "execution_count": 8,
     "metadata": {},
     "output_type": "execute_result"
    }
   ],
   "source": [
    "# Observed frequencies\n",
    "observed_frequencies = [55, 45]  # 55 heads, 45 tails\n",
    "\n",
    "# Expected frequencies for a fair coin\n",
    "total_flips = 100\n",
    "expected_frequencies = [total_flips / 2, total_flips / 2]  # 50 heads, 50 tails\n",
    "\n",
    "# Perform chi-square goodness of fit test\n",
    "chi2_stat, p_val = stats.chisquare(f_obs=observed_frequencies, f_exp=expected_frequencies)\n",
    "\n",
    "chi2_stat, p_val\n"
   ]
  },
  {
   "cell_type": "markdown",
   "id": "26851452-b40a-4977-8d27-50c47b542ea4",
   "metadata": {},
   "source": [
    "The chi-square goodness of fit test resulted in the following:\n",
    "\n",
    "- Chi-square statistic: 1.0\n",
    "\n",
    "- p-value: 0.317\n",
    "\n",
    "Given the significance level of 0.05, the p-value of 0.317 is much greater than 0.05. Therefore, we fail to reject the null hypothesis. This means that there is no significant evidence to suggest that the coin is biased towards tails. The observed frequencies do not significantly differ from the expected frequencies of a fair coin."
   ]
  },
  {
   "attachments": {
    "2d9b8541-eba7-4aa4-bcae-aab6dc5f3f04.png": {
     "image/png": "[encoded data removed]"
    }
   },
   "cell_type": "markdown",
   "id": "9bb0fd90-853d-411f-a3dd-adad3472b29a",
   "metadata": {},
   "source": [
    "Q9. A study was conducted to determine if there is an association between smoking status (smoker or\n",
    "non-smoker) and lung cancer diagnosis (yes or no). The results are shown in the contingency table below.\n",
    "Conduct a chi-square test for independence to determine if there is a significant association between\n",
    "smoking status and lung cancer diagnosis.\n",
    "\n",
    "\n",
    "![Screenshot 2024-08-04 010721.png](attachment:2d9b8541-eba7-4aa4-bcae-aab6dc5f3f04.png)\n",
    "\n",
    "Use a significance level of 0.05."
   ]
  },
  {
   "cell_type": "code",
   "execution_count": 9,
   "id": "724245bf-f535-4298-b64c-8ffe54a5d950",
   "metadata": {},
   "outputs": [
    {
     "data": {
      "text/plain": [
       "(12.057347670250895,\n",
       " 0.0005158863863703744,\n",
       " 1,\n",
       " array([[ 45., 155.],\n",
       "        [ 45., 155.]]))"
      ]
     },
     "execution_count": 9,
     "metadata": {},
     "output_type": "execute_result"
    }
   ],
   "source": [
    "# Contingency table data\n",
    "data = np.array([[60, 140], [30, 170]])\n",
    "\n",
    "# Perform chi-square test for independence\n",
    "chi2_stat, p_val, dof, expected = stats.chi2_contingency(data)\n",
    "\n",
    "chi2_stat, p_val, dof, expected\n"
   ]
  },
  {
   "cell_type": "markdown",
   "id": "a68cd4b3-fe45-4b46-9b9b-8ec5cd9d38d9",
   "metadata": {},
   "source": [
    "\n",
    "The chi-square test for independence resulted in the following:\n",
    "\n",
    "- Chi-square statistic: 12.06\n",
    "- p-value: 0.00052\n",
    "- Degrees of freedom: 1\n",
    "- Expected frequencies:\n",
    "  \\[\n",
    "  \\begin{array}{cc}\n",
    "  45 & 155 \\\\\n",
    "  45 & 155 \\\\\n",
    "  \\end{array}\n",
    "  \\]\n",
    "\n",
    "Given the significance level of 0.05, the p-value of 0.00052 is much less than 0.05. Therefore, we reject the null hypothesis. This means that there is significant evidence to suggest an association between smoking status and lung cancer diagnosis."
   ]
  },
  {
   "attachments": {
    "a7f225ce-7106-4f5e-9a51-1227cb9d0819.png": {
     "image/png": "[encoded data removed]"
    }
   },
   "cell_type": "markdown",
   "id": "38e1f63e-b524-4f73-a0c0-69a539a945b5",
   "metadata": {},
   "source": [
    "Q10. A study was conducted to determine if the proportion of people who prefer milk chocolate, dark\n",
    "chocolate, or white chocolate is different in the U.S. versus the U.K. A random sample of 500 people from\n",
    "the U.S. and a random sample of 500 people from the U.K. were surveyed. The results are shown in the\n",
    "contingency table below. Conduct a chi-square test for independence to determine if there is a significant\n",
    "association between chocolate preference and country of origin.\n",
    "\n",
    "![Screenshot 2024-08-04 011309.png](attachment:a7f225ce-7106-4f5e-9a51-1227cb9d0819.png)\n",
    "\n",
    "\n",
    "use a significance level of 0.01."
   ]
  },
  {
   "cell_type": "code",
   "execution_count": 10,
   "id": "f74bf024-46e6-4436-95aa-d1d53f58a281",
   "metadata": {},
   "outputs": [
    {
     "data": {
      "text/plain": [
       "(13.393665158371041,\n",
       " 0.0012348168997745918,\n",
       " 2,\n",
       " array([[212.5, 162.5, 125. ],\n",
       "        [212.5, 162.5, 125. ]]))"
      ]
     },
     "execution_count": 10,
     "metadata": {},
     "output_type": "execute_result"
    }
   ],
   "source": [
    "# Contingency table data\n",
    "data = np.array([[200, 150, 150], [225, 175, 100]])\n",
    "\n",
    "# Perform chi-square test for independence\n",
    "chi2_stat, p_val, dof, expected = stats.chi2_contingency(data)\n",
    "\n",
    "chi2_stat, p_val, dof, expected\n"
   ]
  },
  {
   "cell_type": "markdown",
   "id": "8295e81d-67a1-41d4-ba93-d21e7c69c8e4",
   "metadata": {},
   "source": [
    "\n",
    "The chi-square test for independence resulted in the following:\n",
    "\n",
    "- Chi-square statistic: 13.39\n",
    "- p-value: 0.00123\n",
    "- Degrees of freedom: 2\n",
    "- Expected frequencies:\n",
    "  \\[\n",
    "  \\begin{array}{ccc}\n",
    "  212.5 & 162.5 & 125.0 \\\\\n",
    "  212.5 & 162.5 & 125.0 \\\\\n",
    "  \\end{array}\n",
    "  \\]\n",
    "\n",
    "Given the significance level of 0.01, the p-value of 0.00123 is much less than 0.01. Therefore, we reject the null hypothesis. This means that there is significant evidence to suggest an association between chocolate preference and country of origin."
   ]
  },
  {
   "cell_type": "markdown",
   "id": "08c57a89-1c11-4360-9342-63e02e66cc35",
   "metadata": {},
   "source": [
    "Q11. A random sample of 30 people was selected from a population with an unknown mean and standard\n",
    "deviation. The sample mean was found to be 72 and the sample standard deviation was found to be 10.\n",
    "Conduct a hypothesis test to determine if the population mean is significantly different from 70. Use a\n",
    "significance level of 0.05."
   ]
  },
  {
   "cell_type": "markdown",
   "id": "48f8b619-0a9f-499b-b489-5081da8de8d1",
   "metadata": {},
   "source": [
    "To conduct a hypothesis test to determine if the population mean is significantly different from 70, we can use a one-sample t-test. Here are the steps:\n",
    "\n",
    "1. **State the hypotheses:**\n",
    "   - Null hypothesis (\\(H_0\\)): \\(\\mu = 70\\)\n",
    "   - Alternative hypothesis (\\(H_a\\)): \\(\\mu \\neq 70\\)\n",
    "\n",
    "2. **Choose the significance level:** \\(\\alpha = 0.05\\)\n",
    "\n",
    "3. **Calculate the test statistic:**\n",
    "   \\[\n",
    "   t = \\frac{\\bar{x} - \\mu_0}{s / \\sqrt{n}}\n",
    "   \\]\n",
    "   where \\(\\bar{x} = 72\\) is the sample mean, \\(\\mu_0 = 70\\) is the population mean under the null hypothesis, \\(s = 10\\) is the sample standard deviation, and \\(n = 30\\) is the sample size.\n",
    "\n",
    "4. **Determine the degrees of freedom:** \\(df = n - 1\\)\n",
    "\n",
    "5. **Calculate the p-value.**\n",
    "\n",
    "6. **Compare the p-value to the significance level and make a decision.\n"
   ]
  },
  {
   "cell_type": "code",
   "execution_count": 11,
   "id": "74a1485e-ee34-4a82-b822-f2609765550f",
   "metadata": {},
   "outputs": [
    {
     "data": {
      "text/plain": [
       "(1.0954451150103321, 0.28233623728606977)"
      ]
     },
     "execution_count": 11,
     "metadata": {},
     "output_type": "execute_result"
    }
   ],
   "source": [
    "# Sample statistics\n",
    "sample_mean = 72\n",
    "population_mean = 70\n",
    "sample_std_dev = 10\n",
    "sample_size = 30\n",
    "\n",
    "# Calculate the t-statistic\n",
    "t_stat = (sample_mean - population_mean) / (sample_std_dev / np.sqrt(sample_size))\n",
    "\n",
    "# Degrees of freedom\n",
    "df = sample_size - 1\n",
    "\n",
    "# Calculate the p-value for a two-tailed test\n",
    "p_value = 2 * stats.t.sf(np.abs(t_stat), df)\n",
    "\n",
    "t_stat, p_value\n"
   ]
  },
  {
   "cell_type": "markdown",
   "id": "3c26d606-ecb3-4795-a307-466b5a949446",
   "metadata": {},
   "source": [
    "The results of the one-sample t-test are as follows:\n",
    "\n",
    "- t-statistic: 1.10\n",
    "- p-value: 0.282\n",
    "\n",
    "Given the significance level of 0.05, the p-value of 0.282 is much greater than 0.05. Therefore, we fail to reject the null hypothesis. This means that there is no significant evidence to suggest that the population mean is different from 70 based on the sample data."
   ]
  },
  {
   "cell_type": "code",
   "execution_count": null,
   "id": "c53549bc-3bfa-417e-8cbf-6fd794047ddb",
   "metadata": {},
   "outputs": [],
   "source": []
  }
 ],
 "metadata": {
  "kernelspec": {
   "display_name": "Python 3 (ipykernel)",
   "language": "python",
   "name": "python3"
  },
  "language_info": {
   "codemirror_mode": {
    "name": "ipython",
    "version": 3
   },
   "file_extension": ".py",
   "mimetype": "text/x-python",
   "name": "python",
   "nbconvert_exporter": "python",
   "pygments_lexer": "ipython3",
   "version": "3.10.8"
  }
 },
 "nbformat": 4,
 "nbformat_minor": 5
}
