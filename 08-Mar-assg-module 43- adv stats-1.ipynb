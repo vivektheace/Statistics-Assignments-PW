{
 "cells": [
  {
   "cell_type": "markdown",
   "id": "2da11360-cc8a-4656-8efc-f1de138b8bbb",
   "metadata": {},
   "source": [
    "Q1. What is the Probability density function?\n"
   ]
  },
  {
   "attachments": {
    "877d91ff-f19e-4bbd-9153-71752938b439.png": {
     "image/png": "[encoded data removed]"
    }
   },
   "cell_type": "markdown",
   "id": "3da62994-dff3-432e-92a2-4f66408e8fce",
   "metadata": {},
   "source": [
    "A Probability Density Function (PDF) is a function that describes the likelihood of a continuous random variable taking on a particular value. Unlike discrete probability distributions, which assign probabilities to distinct outcomes, PDFs deal with ranges of values for continuous variables.\n",
    "\n",
    "Here are the key properties and characteristics of a PDF:\n",
    "\n",
    "1. **Non-negativity**: The value of the PDF is always non-negative for all possible values of the random variable. That is, \\( f(x) \\geq 0 \\) for all \\( x \\).\n",
    "\n",
    "2. **Total Area Under the Curve**: The total area under the PDF curve is equal to 1. This property ensures that the total probability over all possible values is 1. Mathematically, this is expressed as:\n",
    "   \\[\n",
    "   \\int_{-\\infty}^{\\infty} f(x) \\, dx = 1\n",
    "   \\]\n",
    "\n",
    "3. **Probability of an Interval**: The probability that the random variable falls within a specific interval \\( [a, b] \\) is given by the integral of the PDF over that interval:\n",
    "   \\[\n",
    "   P(a \\leq X \\leq b) = \\int_{a}^{b} f(x) \\, dx\n",
    "   \\]\n",
    "\n",
    "4. **Density Interpretation**: The PDF itself is not a probability but a density. This means that \\( f(x) \\) at a particular point \\( x \\) represents the relative likelihood of the random variable being near \\( x \\). However, the actual probability of the variable taking any specific value \\( x \\) (for continuous distributions) is zero because the area under the curve at a single point is zero.\n",
    "\n",
    "### Example: Normal Distribution\n",
    "\n",
    "The PDF of a normal (Gaussian) distribution with mean \\( \\mu \\) and standard deviation \\( \\sigma \\) is given by:\n",
    "\\[\n",
    "f(x) = \\frac{1}{\\sigma \\sqrt{2\\pi}} e^{-\\frac{(x-\\mu)^2}{2\\sigma^2}}\n",
    "\\]\n",
    "This bell-shaped curve shows the distribution of values with most of the probability mass centered around the mean \\( \\mu \\) and decreasing symmetrically as you move away from the mean.\n",
    "\n",
    "![Probability-Density-Function.png](attachment:877d91ff-f19e-4bbd-9153-71752938b439.png)"
   ]
  },
  {
   "cell_type": "markdown",
   "id": "fb4fa516-5902-41da-b582-4e7b7d307e24",
   "metadata": {},
   "source": [
    "Q2. What are the types of Probability distribution?\n"
   ]
  },
  {
   "cell_type": "markdown",
   "id": "cd0a03dc-b2ce-40b3-88c2-bd39999e81ea",
   "metadata": {},
   "source": [
    "Probability distributions can be broadly categorized into two types: discrete and continuous. Each type has several specific distributions, each with unique properties and applications. Here's an overview:\n",
    "\n",
    "### Discrete Probability Distributions\n",
    "\n",
    "1. **Bernoulli Distribution**:\n",
    "   - Describes a single experiment that results in a binary outcome (success or failure).\n",
    "   - Parameter: \\( p \\) (probability of success).\n",
    "\n",
    "2. **Binomial Distribution**:\n",
    "   - Describes the number of successes in a fixed number of independent Bernoulli trials.\n",
    "   - Parameters: \\( n \\) (number of trials), \\( p \\) (probability of success).\n",
    "\n",
    "3. **Geometric Distribution**:\n",
    "   - Describes the number of trials needed to get the first success in repeated Bernoulli trials.\n",
    "   - Parameter: \\( p \\) (probability of success).\n",
    "\n",
    "4. **Negative Binomial Distribution**:\n",
    "   - Describes the number of trials needed to achieve a specified number of successes.\n",
    "   - Parameters: \\( r \\) (number of successes), \\( p \\) (probability of success).\n",
    "\n",
    "5. **Poisson Distribution**:\n",
    "   - Describes the number of events occurring in a fixed interval of time or space, given the events occur at a constant rate and independently of the time since the last event.\n",
    "   - Parameter: \\( \\lambda \\) (average rate of occurrence).\n",
    "\n",
    "6. **Hypergeometric Distribution**:\n",
    "   - Describes the number of successes in a sequence of draws from a finite population without replacement.\n",
    "   - Parameters: \\( N \\) (population size), \\( K \\) (number of successes in population), \\( n \\) (number of draws).\n",
    "\n",
    "### Continuous Probability Distributions\n",
    "\n",
    "1. **Uniform Distribution**:\n",
    "   - All outcomes are equally likely within a given range.\n",
    "   - Parameters: \\( a \\) (lower bound), \\( b \\) (upper bound).\n",
    "\n",
    "2. **Normal (Gaussian) Distribution**:\n",
    "   - Describes a continuous random variable with a symmetric, bell-shaped curve centered around the mean.\n",
    "   - Parameters: \\( \\mu \\) (mean), \\( \\sigma \\) (standard deviation).\n",
    "\n",
    "3. **Exponential Distribution**:\n",
    "   - Describes the time between events in a Poisson process, with events occurring continuously and independently at a constant average rate.\n",
    "   - Parameter: \\( \\lambda \\) (rate parameter).\n",
    "\n",
    "4. **Gamma Distribution**:\n",
    "   - Generalizes the exponential distribution, describing the time until the \\( \\alpha \\)-th event in a Poisson process.\n",
    "   - Parameters: \\( \\alpha \\) (shape parameter), \\( \\beta \\) (rate parameter).\n",
    "\n",
    "5. **Beta Distribution**:\n",
    "   - Describes a random variable bounded between 0 and 1, often used in Bayesian statistics.\n",
    "   - Parameters: \\( \\alpha \\) and \\( \\beta \\) (shape parameters).\n",
    "\n",
    "6. **Log-Normal Distribution**:\n",
    "   - Describes a variable whose logarithm is normally distributed.\n",
    "   - Parameters: \\( \\mu \\) (mean of the logarithm), \\( \\sigma \\) (standard deviation of the logarithm).\n",
    "\n",
    "7. **Chi-Square Distribution**:\n",
    "   - Describes the distribution of a sum of the squares of \\( k \\) independent standard normal random variables.\n",
    "   - Parameter: \\( k \\) (degrees of freedom).\n",
    "\n",
    "8. **Student's t-Distribution**:\n",
    "   - Describes a variable that is normally distributed with a finite sample size.\n",
    "   - Parameter: \\( \\nu \\) (degrees of freedom).\n",
    "\n",
    "9. **F-Distribution**:\n",
    "   - Describes the ratio of two scaled chi-square distributions, often used in ANOVA and regression analysis.\n",
    "   - Parameters: \\( d_1 \\) and \\( d_2 \\) (degrees of freedom).\n",
    "\n"
   ]
  },
  {
   "cell_type": "markdown",
   "id": "770f10b5-88e0-47d3-a9ea-ff7c02204fb7",
   "metadata": {},
   "source": [
    "Q3. Write a Python function to calculate the probability density function of a normal distribution with\n",
    "given mean and standard deviation at a given point.\n"
   ]
  },
  {
   "cell_type": "code",
   "execution_count": 1,
   "id": "f8417503-87d2-4f5a-ba50-4b9142908147",
   "metadata": {},
   "outputs": [
    {
     "name": "stdout",
     "output_type": "stream",
     "text": [
      "The PDF value at x = 1.0 for a normal distribution with mean = 0.0 and sigma = 1.0 is 0.32214418255673755\n"
     ]
    }
   ],
   "source": [
    "import math\n",
    "\n",
    "def normal_pdf(x, mu, sigma):\n",
    "    \"\"\"\n",
    "    Calculate the probability density function of a normal distribution.\n",
    "    \n",
    "    Parameters:\n",
    "    x (float): The point at which to evaluate the PDF.\n",
    "    mu (float): The mean of the normal distribution.\n",
    "    sigma (float): The standard deviation of the normal distribution.\n",
    "    \n",
    "    Returns:\n",
    "    float: The value of the PDF at the given point.\n",
    "    \"\"\"\n",
    "    # Calculate the coefficient\n",
    "    coefficient = 1.0 / (sigma * math.sqrt(2 * math.sqrt(math.pi)))\n",
    "    \n",
    "    # Calculate the exponent\n",
    "    exponent = -((x - mu) ** 2) / (2 * sigma ** 2)\n",
    "    \n",
    "    # Calculate the PDF\n",
    "    pdf_value = coefficient * math.exp(exponent)\n",
    "    \n",
    "    return pdf_value\n",
    "\n",
    "# Example usage\n",
    "x = 1.0\n",
    "mu = 0.0\n",
    "sigma = 1.0\n",
    "pdf_value = normal_pdf(x, mu, sigma)\n",
    "print(f\"The PDF value at x = {x} for a normal distribution with mean = {mu} and sigma = {sigma} is {pdf_value}\")\n"
   ]
  },
  {
   "cell_type": "markdown",
   "id": "981d6a94-b721-4701-9107-1a1b5b3813ff",
   "metadata": {},
   "source": [
    "Q4. What are the properties of Binomial distribution? Give two examples of events where binomial\n",
    "distribution can be applied.\n"
   ]
  },
  {
   "cell_type": "markdown",
   "id": "2cf17777-361f-4c94-8e70-53e6fa35f62d",
   "metadata": {},
   "source": [
    "The Binomial distribution is a discrete probability distribution that models the number of successes in a fixed number of independent trials of a binary experiment (one with two possible outcomes, often termed \"success\" and \"failure\"). Here are its key properties:\n",
    "\n",
    "### Properties of Binomial Distribution\n",
    "\n",
    "1. **Fixed Number of Trials (n)**: The distribution describes the number of successes in a fixed number of trials.\n",
    "\n",
    "2. **Two Possible Outcomes**: Each trial results in one of two outcomes: success (with probability \\( p \\)) or failure (with probability \\( 1 - p \\)).\n",
    "\n",
    "3. **Constant Probability**: The probability of success, \\( p \\), remains constant for each trial.\n",
    "\n",
    "4. **Independence**: The trials are independent of each other, meaning the outcome of one trial does not affect the outcome of another.\n",
    "\n",
    "5. **Discrete Distribution**: The Binomial distribution is discrete, meaning it describes outcomes that take on integer values (the number of successes).\n",
    "\n",
    "6. **Probability Mass Function (PMF)**:\n",
    "   The probability of observing exactly \\( k \\) successes in \\( n \\) trials is given by:\n",
    "   \\[\n",
    "   \n",
    "   P(X = k) = \\binom{n}{k} p^k (1 - p)^{n - k}\n",
    "   \n",
    "   \\]\n",
    "   where \\( \\binom{n}{k} \\) is the binomial coefficient, which can be calculated as:\n",
    "   \\[\n",
    "   \\binom{n}{k} = \\frac{n!}{k!(n - k)!}\n",
    "   \\]\n",
    "\n",
    "### Examples of Events Where Binomial Distribution Can Be Applied\n",
    "\n",
    "1. **Quality Control in Manufacturing**: Suppose a factory produces light bulbs, and historically, 2% of the bulbs are defective. If a quality control manager selects 100 bulbs at random from the production line, the number of defective bulbs among these 100 can be modeled using a binomial distribution with \\( n = 100 \\) and \\( p = 0.02 \\).\n",
    "\n",
    "2. **Survey Responses**: Consider a survey where 60% of respondents are expected to prefer a new product. If 200 people are surveyed, the number of people who prefer the new product can be modeled as a binomial distribution with \\( n = 200 \\) and \\( p = 0.60 \\).\n",
    "\n",
    "In both examples, we have a fixed number of trials (100 light bulbs, 200 survey respondents), two possible outcomes (defective/non-defective, prefer/do not prefer), a constant probability of success (2%, 60%), and the trials are assumed to be independent."
   ]
  },
  {
   "cell_type": "markdown",
   "id": "fef9e1be-9a1b-4963-833d-8149c0482be2",
   "metadata": {},
   "source": [
    "Q5. Generate a random sample of size 1000 from a binomial distribution with probability of success 0.4\n",
    "and plot a histogram of the results using matplotlib.\n"
   ]
  },
  {
   "cell_type": "code",
   "execution_count": 2,
   "id": "0184f4f9-8109-4232-82f6-d30dd9c57928",
   "metadata": {},
   "outputs": [
    {
     "data": {
      "image/png": "[encoded data removed]",
      "text/plain": [
       "<Figure size 1000x600 with 1 Axes>"
      ]
     },
     "metadata": {},
     "output_type": "display_data"
    }
   ],
   "source": [
    "import numpy as np\n",
    "import matplotlib.pyplot as plt\n",
    "\n",
    "# Parameters for the binomial distribution\n",
    "n = 10  # number of trials\n",
    "p = 0.4  # probability of success\n",
    "sample_size = 1000\n",
    "\n",
    "# Generate a random sample\n",
    "random_sample = np.random.binomial(n, p, sample_size)\n",
    "\n",
    "# Plot the histogram\n",
    "plt.figure(figsize=(10, 6))\n",
    "plt.hist(random_sample, bins=range(n+2), edgecolor='black', alpha=0.7)\n",
    "plt.title('Histogram of Binomial Distribution (n=10, p=0.4, sample size=1000)')\n",
    "plt.xlabel('Number of Successes')\n",
    "plt.ylabel('Frequency')\n",
    "plt.xticks(range(n+1))\n",
    "plt.grid(axis='y', linestyle='--', alpha=0.7)\n",
    "plt.show()\n"
   ]
  },
  {
   "cell_type": "markdown",
   "id": "09ae3bf9-c109-48a6-9f24-b7aa19aa1151",
   "metadata": {},
   "source": [
    "Q6. Write a Python function to calculate the cumulative distribution function of a Poisson distribution\n",
    "with given mean at a given point.\n"
   ]
  },
  {
   "cell_type": "code",
   "execution_count": 3,
   "id": "c9f67948-1cf0-4b8b-910f-37ee9ceaf2c8",
   "metadata": {},
   "outputs": [
    {
     "name": "stdout",
     "output_type": "stream",
     "text": [
      "The CDF value at k = 5 for a Poisson distribution with mean = 3.0 is 0.08391794203130347\n"
     ]
    }
   ],
   "source": [
    "import math\n",
    "from scipy.special import gammainc\n",
    "\n",
    "def poisson_cdf(k, lambda_):\n",
    "    \"\"\"\n",
    "    Calculate the cumulative distribution function of a Poisson distribution.\n",
    "    \n",
    "    Parameters:\n",
    "    k (int): The point at which to evaluate the CDF.\n",
    "    lambda_ (float): The mean (λ) of the Poisson distribution.\n",
    "    \n",
    "    Returns:\n",
    "    float: The value of the CDF at the given point.\n",
    "    \"\"\"\n",
    "    if k < 0:\n",
    "        return 0.0\n",
    "    else:\n",
    "        return gammainc(math.floor(k) + 1, lambda_)\n",
    "\n",
    "# Example usage\n",
    "k = 5\n",
    "lambda_ = 3.0\n",
    "cdf_value = poisson_cdf(k, lambda_)\n",
    "print(f\"The CDF value at k = {k} for a Poisson distribution with mean = {lambda_} is {cdf_value}\")\n"
   ]
  },
  {
   "cell_type": "markdown",
   "id": "d437a655-52db-4925-99ba-0ae4eb586b24",
   "metadata": {},
   "source": [
    "Q7. How Binomial distribution different from Poisson distribution?\n"
   ]
  },
  {
   "cell_type": "markdown",
   "id": "6ef69caf-3acd-4d44-a7ef-b13945066649",
   "metadata": {},
   "source": [
    "The Binomial distribution and Poisson distribution are both discrete probability distributions, but they differ in several key aspects, including their underlying assumptions, parameters, and typical applications. Here are the main differences between the two:\n",
    "\n",
    "### Parameters and Definitions\n",
    "\n",
    "1. **Binomial Distribution**:\n",
    "   - **Parameters**: \n",
    "     - \\(n\\): Number of trials\n",
    "     - \\(p\\): Probability of success in each trial\n",
    "   - **Definition**: The Binomial distribution models the number of successes in \\(n\\) independent trials, each with the same probability of success \\(p\\).\n",
    "   - **Probability Mass Function (PMF)**:\n",
    "     \\[\n",
    "     P(X = k) = \\binom{n}{k} p^k (1 - p)^{n - k}\n",
    "     \\]\n",
    "     where \\(\\binom{n}{k}\\) is the binomial coefficient.\n",
    "\n",
    "2. **Poisson Distribution**:\n",
    "   - **Parameters**: \n",
    "     - \\(\\lambda\\): The average number of events in a given interval (mean rate of occurrence)\n",
    "   - **Definition**: The Poisson distribution models the number of events occurring in a fixed interval of time or space, given the events happen independently and at a constant average rate \\(\\lambda\\).\n",
    "   - **Probability Mass Function (PMF)**:\n",
    "     \\[\n",
    "     P(X = k) = \\frac{\\lambda^k e^{-\\lambda}}{k!}\n",
    "     \\]\n",
    "     where \\(k\\) is the number of occurrences.\n",
    "\n",
    "### Key Differences\n",
    "\n",
    "1. **Nature of Trials**:\n",
    "   - **Binomial**: Consists of a fixed number of trials \\(n\\), each with two possible outcomes (success or failure).\n",
    "   - **Poisson**: Describes the number of events in a continuous interval (time, area, volume) with no fixed number of trials. \n",
    "\n",
    "2. **Dependence on Time/Space**:\n",
    "   - **Binomial**: Not inherently linked to time or space; it is based on a set number of trials.\n",
    "   - **Poisson**: Often used to model events over time or space (e.g., number of cars passing through a toll booth in an hour).\n",
    "\n",
    "3. **Parameter Relationship**:\n",
    "   - **Binomial**: Two parameters \\(n\\) and \\(p\\). The mean is \\(n \\cdot p\\) and the variance is \\(n \\cdot p \\cdot (1 - p)\\).\n",
    "   - **Poisson**: Single parameter \\(\\lambda\\), which is both the mean and the variance of the distribution.\n",
    "\n",
    "4. **Typical Applications**:\n",
    "   - **Binomial**: Quality control (defective items in a batch), survey results (number of people preferring a product), and other scenarios with a fixed number of trials.\n",
    "   - **Poisson**: Modeling rare events (e.g., number of earthquakes in a year), arrival of customers (e.g., at a store), and other count data over a fixed interval.\n",
    "\n",
    "### Convergence\n",
    "\n",
    "- **Binomial to Poisson**: For large \\(n\\) and small \\(p\\) such that \\(n \\cdot p = \\lambda\\) is constant, the Binomial distribution approximates the Poisson distribution. This is useful for modeling rare events with a large number of trials.\n",
    "\n",
    "### Summary Table\n",
    "\n",
    "| Feature                      | Binomial Distribution             | Poisson Distribution             |\n",
    "|------------------------------|-----------------------------------|----------------------------------|\n",
    "| Number of Trials             | Fixed (\\(n\\))                     | Not fixed                        |\n",
    "| Probability of Success       | Constant (\\(p\\))                  | Implied by \\(\\lambda\\)           |\n",
    "| Parameters                   | \\(n\\), \\(p\\)                      | \\(\\lambda\\)                      |\n",
    "| Mean                         | \\(n \\cdot p\\)                     | \\(\\lambda\\)                      |\n",
    "| Variance                     | \\(n \\cdot p \\cdot (1 - p)\\)       | \\(\\lambda\\)                      |\n",
    "| Use Case Examples            | Quality control, surveys          | Event occurrence over time/space |\n",
    "| Distribution Shape           | Varies with \\(n\\) and \\(p\\)       | Typically skewed for small \\(\\lambda\\) |\n",
    "| Convergence                  | Approximates Poisson for large \\(n\\) and small \\(p\\) | Exact for rare events |\n",
    "\n",
    "Understanding these differences helps in choosing the appropriate distribution for modeling and analyzing different types of data."
   ]
  },
  {
   "cell_type": "markdown",
   "id": "3206b40e-19f8-45d1-9e01-a575d200eac5",
   "metadata": {},
   "source": [
    "Q8. Generate a random sample of size 1000 from a Poisson distribution with mean 5 and calculate the\n",
    "sample mean and variance.\n"
   ]
  },
  {
   "cell_type": "code",
   "execution_count": 4,
   "id": "5f6161e3-b8f0-4685-9057-613e2458c90b",
   "metadata": {},
   "outputs": [
    {
     "name": "stdout",
     "output_type": "stream",
     "text": [
      "Sample mean: 4.995\n",
      "Sample variance: 5.304975000000001\n"
     ]
    }
   ],
   "source": [
    "import numpy as np\n",
    "\n",
    "# Parameters for the Poisson distribution\n",
    "lambda_ = 5  # mean of the Poisson distribution\n",
    "sample_size = 1000\n",
    "\n",
    "# Generate a random sample\n",
    "random_sample = np.random.poisson(lambda_, sample_size)\n",
    "\n",
    "# Calculate the sample mean and variance\n",
    "sample_mean = np.mean(random_sample)\n",
    "sample_variance = np.var(random_sample)\n",
    "\n",
    "print(f\"Sample mean: {sample_mean}\")\n",
    "print(f\"Sample variance: {sample_variance}\")\n"
   ]
  },
  {
   "cell_type": "markdown",
   "id": "7f484b57-7805-4001-9fe5-0ebdbcfda859",
   "metadata": {},
   "source": [
    "Q9. How mean and variance are related in Binomial distribution and Poisson distribution?"
   ]
  },
  {
   "cell_type": "markdown",
   "id": "4e5c8b92-da72-463a-9c06-45d7e2717933",
   "metadata": {},
   "source": [
    "The mean and variance are key characteristics of any probability distribution, and they are related differently in Binomial and Poisson distributions. Here's how they are related in each distribution:\n",
    "\n",
    "### Binomial Distribution\n",
    "\n",
    "For a Binomial distribution with parameters \\(n\\) (number of trials) and \\(p\\) (probability of success in each trial):\n",
    "\n",
    "- **Mean (\\(\\mu\\))**: \n",
    "  \\[\n",
    "  \\mu = n \\cdot p\n",
    "  \\]\n",
    "- **Variance (\\(\\sigma^2\\))**:\n",
    "  \\[\n",
    "  \\sigma^2 = n \\cdot p \\cdot (1 - p)\n",
    "  \\]\n",
    "\n",
    "### Poisson Distribution\n",
    "\n",
    "For a Poisson distribution with parameter \\(\\lambda\\) (the average rate of occurrence):\n",
    "\n",
    "- **Mean (\\(\\mu\\))**:\n",
    "  \\[\n",
    "  \\mu = \\lambda\n",
    "  \\]\n",
    "- **Variance (\\(\\sigma^2\\))**:\n",
    "  \\[\n",
    "  \\sigma^2 = \\lambda\n",
    "  \\]\n",
    "\n",
    "### Summary of Relationships\n",
    "\n",
    "1. **Binomial Distribution**:\n",
    "   - The mean is \\(n \\cdot p\\).\n",
    "   - The variance is \\(n \\cdot p \\cdot (1 - p)\\).\n",
    "   - The variance depends on both the probability of success \\(p\\) and the probability of failure \\(1 - p\\).\n",
    "\n",
    "2. **Poisson Distribution**:\n",
    "   - The mean is \\(\\lambda\\).\n",
    "   - The variance is also \\(\\lambda\\).\n",
    "   - The mean and variance are equal.\n",
    "\n",
    "### Key Differences\n",
    "\n",
    "- In the **Binomial distribution**, the variance is always less than or equal to the mean because \\(p(1 - p) \\leq 1\\).\n",
    "- In the **Poisson distribution**, the mean and variance are always equal, reflecting the distribution's property that the occurrence of events is both constant in rate and independent of the number of previous events.\n",
    "\n",
    "### Practical Implications\n",
    "\n",
    "- When modeling data with a **Binomial distribution**, you can see that the spread (variance) of the distribution depends on both the number of trials \\(n\\) and the probability of success \\(p\\). This makes the Binomial distribution suitable for scenarios where you have a fixed number of trials and a fixed probability of success.\n",
    "- When modeling data with a **Poisson distribution**, the fact that the mean and variance are equal simplifies the analysis, making it useful for modeling the number of events occurring within a fixed interval of time or space, especially when these events are rare and independent.\n",
    "\n",
    "Understanding these relationships helps in selecting the appropriate distribution for different types of data and provides insight into the variability and expected outcomes of the modeled processes."
   ]
  },
  {
   "cell_type": "markdown",
   "id": "a6cc347f-ae6c-4fd9-8d82-a61f850d43e7",
   "metadata": {},
   "source": [
    "Q10. In normal distribution with respect to mean position, where does the least frequent data appear?"
   ]
  },
  {
   "cell_type": "markdown",
   "id": "7606423d-6f4a-451b-86eb-aa4fa30f05ce",
   "metadata": {},
   "source": [
    "In a normal distribution, the data is symmetrically distributed around the mean. The least frequent data points appear in the tails of the distribution, farthest from the mean.\n",
    "\n",
    "Explanation\n",
    "Normal Distribution: The normal distribution, also known as the Gaussian distribution, is characterized by its bell-shaped curve, which is symmetric around the mean. The probability density function (PDF) of a normal distribution is given by:\n",
    "\n",
    "𝑓\n",
    "(\n",
    "𝑥\n",
    ")\n",
    "=\n",
    "1\n",
    "𝜎\n",
    "2\n",
    "𝜋\n",
    "𝑒\n",
    "−\n",
    "(\n",
    "𝑥\n",
    "−\n",
    "𝜇\n",
    ")\n",
    "2\n",
    "2\n",
    "𝜎\n",
    "2\n",
    "f(x)= \n",
    "σ \n",
    "2π\n",
    "​\n",
    " \n",
    "1\n",
    "​\n",
    " e \n",
    "− \n",
    "2σ \n",
    "2\n",
    " \n",
    "(x−μ) \n",
    "2\n",
    " \n",
    "​\n",
    " \n",
    " \n",
    "where \n",
    "𝜇\n",
    "μ is the mean and \n",
    "𝜎\n",
    "σ is the standard deviation.\n",
    "\n",
    "Symmetry: Because the normal distribution is symmetric, the mean (\n",
    "𝜇\n",
    "μ) is located at the center of the distribution. The frequency of data points decreases as you move away from the mean in either direction.\n",
    "\n",
    "Least Frequent Data: The tails of the normal distribution (i.e., the extreme left and right ends of the distribution) represent the least frequent data points. These tails correspond to the values that are many standard deviations away from the mean. In practical terms, this means data points that are much smaller or much larger than the mean are the least frequent."
   ]
  },
  {
   "cell_type": "code",
   "execution_count": null,
   "id": "abc5b4a8-959f-405d-b44c-6a4d0e7a3ab5",
   "metadata": {},
   "outputs": [],
   "source": []
  }
 ],
 "metadata": {
  "kernelspec": {
   "display_name": "Python 3 (ipykernel)",
   "language": "python",
   "name": "python3"
  },
  "language_info": {
   "codemirror_mode": {
    "name": "ipython",
    "version": 3
   },
   "file_extension": ".py",
   "mimetype": "text/x-python",
   "name": "python",
   "nbconvert_exporter": "python",
   "pygments_lexer": "ipython3",
   "version": "3.10.8"
  }
 },
 "nbformat": 4,
 "nbformat_minor": 5
}
